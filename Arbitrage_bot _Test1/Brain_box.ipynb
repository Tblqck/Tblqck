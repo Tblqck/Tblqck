{
 "cells": [
  {
   "cell_type": "code",
   "execution_count": null,
   "id": "ba885e55",
   "metadata": {},
   "outputs": [
    {
     "name": "stdout",
     "output_type": "stream",
     "text": [
      "Enter 'start' to begin or 'start1' to begin with an alternative sequence...start1\n",
      "[{'asset': 'WBTC', 'exchange': 'Crypto.com', 'action': 'Within Exchange Arbitrage', 'profit': 0.5969278631149474}, {'asset': 'WBTC', 'exchange': 'Crypto.com', 'action': 'Between Exchanges Arbitrage', 'profit': 1.021654722721485, 'opposite_exchange': 'HitBTC'}, {'asset': 'WBTC', 'exchange': 'Crypto.com', 'action': 'Between Exchanges Arbitrage', 'profit': 0.6459754871554172, 'opposite_exchange': 'BitMart'}, {'asset': 'WBTC', 'exchange': 'HitBTC', 'action': 'Within Exchange Arbitrage', 'profit': 0.22604013476816298}]\n",
      "Enter 'restart' to restart the sequence, 'restart1' for an alternative sequence, or 'exit' to exit...start1\n",
      "[]\n",
      "Enter 'restart' to restart the sequence, 'restart1' for an alternative sequence, or 'exit' to exit...start1\n",
      "[]\n"
     ]
    }
   ],
   "source": [
    "import subprocess\n",
    "import threading\n",
    "\n",
    "def run_data_pipeline():\n",
    "    # Function to run the data_pipeline.py script\n",
    "    def run_data_pipeline_script():\n",
    "        # Run the data_pipeline.py script in a subprocess\n",
    "        nonlocal process\n",
    "        process = subprocess.Popen(['python', 'data_pipeline.py'], stdout=subprocess.PIPE, stderr=subprocess.PIPE, text=True)\n",
    "    \n",
    "    stop_requested = False\n",
    "    process = None\n",
    "    processing_printed = False  # Flag to track if 'PROCESSING' has been printed\n",
    "\n",
    "    # Create a thread to run the data_pipeline.py script\n",
    "    script_thread = threading.Thread(target=run_data_pipeline_script)\n",
    "\n",
    "    # Start the thread to run the script\n",
    "    script_thread.start()\n",
    "\n",
    "    # Wait for user input to stop the code or change the sequence\n",
    "    user_input = input(\"Enter 'start' to begin or 'start1' to begin with an alternative sequence...\")\n",
    "\n",
    "    if user_input == 'start1':\n",
    "        sequence = [run_find_arbitrage_opportunities, wait_for_user_input]\n",
    "    else:\n",
    "        sequence = [clear_json_file, run_data_pipeline_script, wait_for_user_input]\n",
    "\n",
    "    for step in sequence:\n",
    "        step()\n",
    "    \n",
    "    if process is not None:\n",
    "        process.terminate()\n",
    "    \n",
    "    # Code has finished running, print 'DONE'\n",
    "    print('DONE')\n",
    "\n",
    "# Define the function to clear the JSON file\n",
    "def clear_json_file():\n",
    "    with open('market_data.json', 'w') as file:\n",
    "        file.write('')\n",
    "    print('Data in market_data.json cleared.')\n",
    "\n",
    "# Function to run the find_arbitrage_opportunities function\n",
    "def run_find_arbitrage_opportunities():\n",
    "    response = find_arbitrage_opportunities(\n",
    "        filename='market_data.json',\n",
    "        withdrawal_fee=4,\n",
    "        exchange_fee=0.69,\n",
    "        trading_amount=1000,\n",
    "        max_liquidity_score=500\n",
    "    )\n",
    "    print(response)\n",
    "\n",
    "# Function to wait for user input and handle sequence changes\n",
    "def wait_for_user_input():\n",
    "    while True:\n",
    "        user_input = input(\"Enter 'restart' to restart the sequence, 'restart1' for an alternative sequence, or 'exit' to exit...\")\n",
    "\n",
    "        if user_input == 'restart':\n",
    "            clear_json_file()\n",
    "            run_data_pipeline()\n",
    "        elif user_input == 'restart1' or user_input == 'start1':\n",
    "            run_find_arbitrage_opportunities()\n",
    "            wait_for_user_input()\n",
    "        elif user_input == 'exit':\n",
    "            break\n",
    "        else:\n",
    "            print(\"Invalid command. Please try again.\")\n",
    "\n",
    "if __name__ == '__main__':\n",
    "    run_data_pipeline()\n"
   ]
  },
  {
   "cell_type": "code",
   "execution_count": null,
   "id": "023d9493",
   "metadata": {},
   "outputs": [],
   "source": []
  }
 ],
 "metadata": {
  "kernelspec": {
   "display_name": "Python 3 (ipykernel)",
   "language": "python",
   "name": "python3"
  },
  "language_info": {
   "codemirror_mode": {
    "name": "ipython",
    "version": 3
   },
   "file_extension": ".py",
   "mimetype": "text/x-python",
   "name": "python",
   "nbconvert_exporter": "python",
   "pygments_lexer": "ipython3",
   "version": "3.11.4"
  }
 },
 "nbformat": 4,
 "nbformat_minor": 5
}
